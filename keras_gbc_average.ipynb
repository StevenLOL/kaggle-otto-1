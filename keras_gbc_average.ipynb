{
 "cells": [
  {
   "cell_type": "code",
   "execution_count": 2,
   "metadata": {
    "collapsed": true
   },
   "outputs": [],
   "source": [
    "import pandas as pd\n",
    "import numpy as np"
   ]
  },
  {
   "cell_type": "code",
   "execution_count": 3,
   "metadata": {
    "collapsed": true
   },
   "outputs": [],
   "source": [
    "submit_1 = pd.read_csv(\"mean_gbc_lasagne_5-13-15.csv\").values\n",
    "submit_2 = pd.read_csv(\"mean_gbc_lasagne_max_sums_gbc_lasagne_5-10-15.csv\").values\n",
    "submit_3 = pd.read_csv('gbc_lasagne_weighed-to-lasagne_5-3-15_8pm.csv').values\n",
    "submit_4 = pd.read_csv('gbc_lasagne_5-3-15.csv').values\n",
    "submit_5 = pd.read_csv('gbc_keras_weighed_5-1-15_9pm.csv').values\n",
    "submit_6 = pd.read_csv(\"lasagne_drop_5-3-15_12pm_210-^^^-epochs.csv\").values"
   ]
  },
  {
   "cell_type": "code",
   "execution_count": 5,
   "metadata": {
    "collapsed": false
   },
   "outputs": [],
   "source": [
    "gbc_vals = pd.read_csv('gbc_700_min_split-leaf-10_5-17-15.csv').values[:,1:]\n",
    "las_vals = pd.read_csv('lasagne_drop_5-3-15_12pm_210-^^^-epochs.csv').values[:,1:]\n",
    "\n",
    "mean_gbc_las = np.mean([gbc_vals, las_vals], axis=0)"
   ]
  },
  {
   "cell_type": "code",
   "execution_count": 10,
   "metadata": {
    "collapsed": false
   },
   "outputs": [
    {
     "name": "stdout",
     "output_type": "stream",
     "text": [
      "done predicting!\n"
     ]
    }
   ],
   "source": [
    "sample = pd.read_csv('data/sampleSubmission.csv')\n",
    "\n",
    "preds = pd.DataFrame(mean_gbc_las, index=sample.id.values, columns=sample.columns[1:])\n",
    "preds.to_csv('mean-gbc_las_5-17-15.csv', index_label='id')\n",
    "print(\"done predicting!\")"
   ]
  },
  {
   "cell_type": "code",
   "execution_count": 11,
   "metadata": {
    "collapsed": false
   },
   "outputs": [],
   "source": [
    "# gbc_vals = pd.read_csv('gbc_from_lasagne_10-12-15_1500-est.csv').values[:, 1:]\n",
    "new_gbc = [ i / np.max(i) for i in gbc_vals ]\n",
    "\n",
    "gbc_confused_weights = [0.44444444444444442,\n",
    " 0.85875706214689262,\n",
    " 0.66216216216216217,\n",
    " 0.43478260869565216,\n",
    " 0.96153846153846156,\n",
    " 0.97122302158273377,\n",
    " 0.70967741935483875,\n",
    " 0.95454545454545459,\n",
    " 0.93023255813953487]\n",
    "\n",
    "new_gbc *= np.array(gbc_confused_weights)"
   ]
  },
  {
   "cell_type": "code",
   "execution_count": 12,
   "metadata": {
    "collapsed": false
   },
   "outputs": [
    {
     "data": {
      "text/plain": [
       "array([ 0.0014004 ,  0.22002898,  0.24884029,  0.43478261,  0.0005224 ,\n",
       "        0.00726335,  0.00829155,  0.00525088,  0.0028979 ])"
      ]
     },
     "execution_count": 12,
     "metadata": {},
     "output_type": "execute_result"
    }
   ],
   "source": [
    "new_gbc[0]"
   ]
  },
  {
   "cell_type": "code",
   "execution_count": 13,
   "metadata": {
    "collapsed": false
   },
   "outputs": [],
   "source": [
    "las_vals = pd.read_csv('lasagne_drop_5-3-15_12pm_210-^^^-epochs.csv').values[:, 1:]\n",
    "new_las = [ i / np.max(i) for i in las_vals ]\n",
    "\n",
    "lasagne_confused_weights = [0.33333333333333331,\n",
    " 0.81142857142857139,\n",
    " 0.52777777777777779,\n",
    " 0.5714285714285714,\n",
    " 0.96666666666666667,\n",
    " 0.92307692307692313,\n",
    " 0.53846153846153844,\n",
    " 0.93023255813953487,\n",
    " 0.86274509803921573]\n",
    "\n",
    "new_las *= np.array(lasagne_confused_weights)"
   ]
  },
  {
   "cell_type": "code",
   "execution_count": 14,
   "metadata": {
    "collapsed": false
   },
   "outputs": [],
   "source": [
    "mean_weighted_matrix = np.mean([new_gbc, new_las], axis=0)\n",
    "mean_weighted_matrix = [ i / np.max(i) for i in mean_weighted_matrix ]"
   ]
  },
  {
   "cell_type": "code",
   "execution_count": 15,
   "metadata": {
    "collapsed": false
   },
   "outputs": [
    {
     "name": "stdout",
     "output_type": "stream",
     "text": [
      "done predicting!\n"
     ]
    }
   ],
   "source": [
    "sample = pd.read_csv('data/sampleSubmission.csv')\n",
    "\n",
    "preds = pd.DataFrame(mean_weighted_matrix, index=sample.id.values, columns=sample.columns[1:])\n",
    "preds.to_csv('mean-weighted_las_gbc_5-17-15_finalz.csv', index_label='id')\n",
    "print(\"done predicting!\")"
   ]
  },
  {
   "cell_type": "code",
   "execution_count": 31,
   "metadata": {
    "collapsed": false
   },
   "outputs": [
    {
     "data": {
      "text/plain": [
       "1.000627140432786"
      ]
     },
     "execution_count": 31,
     "metadata": {},
     "output_type": "execute_result"
    }
   ],
   "source": [
    "mean_all = np.mean([submit_1, submit_2, submit_3, submit_4, submit_5, submit_6], axis=0)\n",
    "mean_all = mean_all[:,1:]"
   ]
  },
  {
   "cell_type": "code",
   "execution_count": 3,
   "metadata": {
    "collapsed": false
   },
   "outputs": [
    {
     "data": {
      "text/html": [
       "<div style=\"max-height:1000px;max-width:1500px;overflow:auto;\">\n",
       "<table border=\"1\" class=\"dataframe\">\n",
       "  <thead>\n",
       "    <tr style=\"text-align: right;\">\n",
       "      <th></th>\n",
       "      <th>id</th>\n",
       "      <th>Class_1</th>\n",
       "      <th>Class_2</th>\n",
       "      <th>Class_3</th>\n",
       "      <th>Class_4</th>\n",
       "      <th>Class_5</th>\n",
       "      <th>Class_6</th>\n",
       "      <th>Class_7</th>\n",
       "      <th>Class_8</th>\n",
       "      <th>Class_9</th>\n",
       "    </tr>\n",
       "  </thead>\n",
       "  <tbody>\n",
       "    <tr>\n",
       "      <th>0</th>\n",
       "      <td> 1</td>\n",
       "      <td> 0.001208</td>\n",
       "      <td> 0.414922</td>\n",
       "      <td> 3.436776e-01</td>\n",
       "      <td> 0.219289</td>\n",
       "      <td> 1.524724e-04</td>\n",
       "      <td> 0.000422</td>\n",
       "      <td> 0.019751</td>\n",
       "      <td> 0.000228</td>\n",
       "      <td> 0.000351</td>\n",
       "    </tr>\n",
       "    <tr>\n",
       "      <th>1</th>\n",
       "      <td> 2</td>\n",
       "      <td> 0.004386</td>\n",
       "      <td> 0.004092</td>\n",
       "      <td> 1.318493e-03</td>\n",
       "      <td> 0.000816</td>\n",
       "      <td> 6.016449e-05</td>\n",
       "      <td> 0.686232</td>\n",
       "      <td> 0.005540</td>\n",
       "      <td> 0.294713</td>\n",
       "      <td> 0.002842</td>\n",
       "    </tr>\n",
       "    <tr>\n",
       "      <th>2</th>\n",
       "      <td> 3</td>\n",
       "      <td> 0.000001</td>\n",
       "      <td> 0.000000</td>\n",
       "      <td> 5.443987e-08</td>\n",
       "      <td> 0.000001</td>\n",
       "      <td> 2.195154e-10</td>\n",
       "      <td> 0.999988</td>\n",
       "      <td> 0.000000</td>\n",
       "      <td> 0.000008</td>\n",
       "      <td> 0.000003</td>\n",
       "    </tr>\n",
       "    <tr>\n",
       "      <th>3</th>\n",
       "      <td> 4</td>\n",
       "      <td> 0.000020</td>\n",
       "      <td> 0.467517</td>\n",
       "      <td> 5.304480e-01</td>\n",
       "      <td> 0.001515</td>\n",
       "      <td> 2.762650e-05</td>\n",
       "      <td> 0.000022</td>\n",
       "      <td> 0.000093</td>\n",
       "      <td> 0.000230</td>\n",
       "      <td> 0.000127</td>\n",
       "    </tr>\n",
       "    <tr>\n",
       "      <th>4</th>\n",
       "      <td> 5</td>\n",
       "      <td> 0.215202</td>\n",
       "      <td> 0.000021</td>\n",
       "      <td> 5.599423e-06</td>\n",
       "      <td> 0.000009</td>\n",
       "      <td> 4.300417e-06</td>\n",
       "      <td> 0.001567</td>\n",
       "      <td> 0.000055</td>\n",
       "      <td> 0.016839</td>\n",
       "      <td> 0.766297</td>\n",
       "    </tr>\n",
       "  </tbody>\n",
       "</table>\n",
       "</div>"
      ],
      "text/plain": [
       "   id   Class_1   Class_2       Class_3   Class_4       Class_5   Class_6  \\\n",
       "0   1  0.001208  0.414922  3.436776e-01  0.219289  1.524724e-04  0.000422   \n",
       "1   2  0.004386  0.004092  1.318493e-03  0.000816  6.016449e-05  0.686232   \n",
       "2   3  0.000001  0.000000  5.443987e-08  0.000001  2.195154e-10  0.999988   \n",
       "3   4  0.000020  0.467517  5.304480e-01  0.001515  2.762650e-05  0.000022   \n",
       "4   5  0.215202  0.000021  5.599423e-06  0.000009  4.300417e-06  0.001567   \n",
       "\n",
       "    Class_7   Class_8   Class_9  \n",
       "0  0.019751  0.000228  0.000351  \n",
       "1  0.005540  0.294713  0.002842  \n",
       "2  0.000000  0.000008  0.000003  \n",
       "3  0.000093  0.000230  0.000127  \n",
       "4  0.000055  0.016839  0.766297  "
      ]
     },
     "execution_count": 3,
     "metadata": {},
     "output_type": "execute_result"
    }
   ],
   "source": [
    "keras_df = pd.read_csv(\"keras_750_20_bd.csv\")\n",
    "keras_df.head()"
   ]
  },
  {
   "cell_type": "code",
   "execution_count": 4,
   "metadata": {
    "collapsed": false
   },
   "outputs": [
    {
     "data": {
      "text/html": [
       "<div style=\"max-height:1000px;max-width:1500px;overflow:auto;\">\n",
       "<table border=\"1\" class=\"dataframe\">\n",
       "  <thead>\n",
       "    <tr style=\"text-align: right;\">\n",
       "      <th></th>\n",
       "      <th>id</th>\n",
       "      <th>Class_1</th>\n",
       "      <th>Class_2</th>\n",
       "      <th>Class_3</th>\n",
       "      <th>Class_4</th>\n",
       "      <th>Class_5</th>\n",
       "      <th>Class_6</th>\n",
       "      <th>Class_7</th>\n",
       "      <th>Class_8</th>\n",
       "      <th>Class_9</th>\n",
       "    </tr>\n",
       "  </thead>\n",
       "  <tbody>\n",
       "    <tr>\n",
       "      <th>0</th>\n",
       "      <td> 1</td>\n",
       "      <td> 0.000317</td>\n",
       "      <td> 0.098941</td>\n",
       "      <td> 0.329279</td>\n",
       "      <td> 0.567213</td>\n",
       "      <td> 0.000004</td>\n",
       "      <td> 0.001196</td>\n",
       "      <td> 0.001733</td>\n",
       "      <td> 0.000898</td>\n",
       "      <td> 0.000419</td>\n",
       "    </tr>\n",
       "    <tr>\n",
       "      <th>1</th>\n",
       "      <td> 2</td>\n",
       "      <td> 0.003136</td>\n",
       "      <td> 0.006055</td>\n",
       "      <td> 0.004064</td>\n",
       "      <td> 0.001255</td>\n",
       "      <td> 0.000021</td>\n",
       "      <td> 0.910094</td>\n",
       "      <td> 0.002973</td>\n",
       "      <td> 0.069942</td>\n",
       "      <td> 0.002461</td>\n",
       "    </tr>\n",
       "    <tr>\n",
       "      <th>2</th>\n",
       "      <td> 3</td>\n",
       "      <td> 0.000041</td>\n",
       "      <td> 0.000123</td>\n",
       "      <td> 0.000053</td>\n",
       "      <td> 0.000023</td>\n",
       "      <td> 0.000000</td>\n",
       "      <td> 0.999556</td>\n",
       "      <td> 0.000050</td>\n",
       "      <td> 0.000119</td>\n",
       "      <td> 0.000035</td>\n",
       "    </tr>\n",
       "    <tr>\n",
       "      <th>3</th>\n",
       "      <td> 4</td>\n",
       "      <td> 0.000795</td>\n",
       "      <td> 0.401646</td>\n",
       "      <td> 0.588507</td>\n",
       "      <td> 0.003408</td>\n",
       "      <td> 0.000005</td>\n",
       "      <td> 0.000762</td>\n",
       "      <td> 0.000951</td>\n",
       "      <td> 0.001267</td>\n",
       "      <td> 0.002659</td>\n",
       "    </tr>\n",
       "    <tr>\n",
       "      <th>4</th>\n",
       "      <td> 5</td>\n",
       "      <td> 0.076382</td>\n",
       "      <td> 0.002801</td>\n",
       "      <td> 0.002842</td>\n",
       "      <td> 0.000585</td>\n",
       "      <td> 0.000019</td>\n",
       "      <td> 0.008879</td>\n",
       "      <td> 0.003580</td>\n",
       "      <td> 0.086273</td>\n",
       "      <td> 0.818641</td>\n",
       "    </tr>\n",
       "  </tbody>\n",
       "</table>\n",
       "</div>"
      ],
      "text/plain": [
       "   id   Class_1   Class_2   Class_3   Class_4   Class_5   Class_6   Class_7  \\\n",
       "0   1  0.000317  0.098941  0.329279  0.567213  0.000004  0.001196  0.001733   \n",
       "1   2  0.003136  0.006055  0.004064  0.001255  0.000021  0.910094  0.002973   \n",
       "2   3  0.000041  0.000123  0.000053  0.000023  0.000000  0.999556  0.000050   \n",
       "3   4  0.000795  0.401646  0.588507  0.003408  0.000005  0.000762  0.000951   \n",
       "4   5  0.076382  0.002801  0.002842  0.000585  0.000019  0.008879  0.003580   \n",
       "\n",
       "    Class_8   Class_9  \n",
       "0  0.000898  0.000419  \n",
       "1  0.069942  0.002461  \n",
       "2  0.000119  0.000035  \n",
       "3  0.001267  0.002659  \n",
       "4  0.086273  0.818641  "
      ]
     },
     "execution_count": 4,
     "metadata": {},
     "output_type": "execute_result"
    }
   ],
   "source": [
    "gbc_df = pd.read_csv(\"gbc_from_lasagne_10-12-15_1500-est.csv\")\n",
    "gbc_df.head()"
   ]
  },
  {
   "cell_type": "code",
   "execution_count": 28,
   "metadata": {
    "collapsed": false
   },
   "outputs": [],
   "source": [
    "# gbc_vals = gbc_df.drop(\"id\", 1).values\n",
    "# keras_vals = keras_df.drop(\"id\", 1).values\n",
    "\n",
    "# keras_vals.shape"
   ]
  },
  {
   "cell_type": "code",
   "execution_count": 5,
   "metadata": {
    "collapsed": false
   },
   "outputs": [
    {
     "data": {
      "text/html": [
       "<div style=\"max-height:1000px;max-width:1500px;overflow:auto;\">\n",
       "<table border=\"1\" class=\"dataframe\">\n",
       "  <thead>\n",
       "    <tr style=\"text-align: right;\">\n",
       "      <th></th>\n",
       "      <th>id</th>\n",
       "      <th>Class_1</th>\n",
       "      <th>Class_2</th>\n",
       "      <th>Class_3</th>\n",
       "      <th>Class_4</th>\n",
       "      <th>Class_5</th>\n",
       "      <th>Class_6</th>\n",
       "      <th>Class_7</th>\n",
       "      <th>Class_8</th>\n",
       "      <th>Class_9</th>\n",
       "    </tr>\n",
       "  </thead>\n",
       "  <tbody>\n",
       "    <tr>\n",
       "      <th>0</th>\n",
       "      <td> 1</td>\n",
       "      <td> 5.472575e-05</td>\n",
       "      <td> 3.430429e-01</td>\n",
       "      <td> 3.861805e-01</td>\n",
       "      <td> 2.670003e-01</td>\n",
       "      <td> 2.015497e-09</td>\n",
       "      <td> 1.572285e-07</td>\n",
       "      <td> 3.721051e-03</td>\n",
       "      <td> 9.668805e-08</td>\n",
       "      <td> 0.000000</td>\n",
       "    </tr>\n",
       "    <tr>\n",
       "      <th>1</th>\n",
       "      <td> 2</td>\n",
       "      <td> 1.445872e-05</td>\n",
       "      <td> 1.377777e-04</td>\n",
       "      <td> 3.506232e-05</td>\n",
       "      <td> 1.822014e-06</td>\n",
       "      <td> 8.336285e-05</td>\n",
       "      <td> 7.574223e-01</td>\n",
       "      <td> 4.264549e-04</td>\n",
       "      <td> 2.417141e-01</td>\n",
       "      <td> 0.000165</td>\n",
       "    </tr>\n",
       "    <tr>\n",
       "      <th>2</th>\n",
       "      <td> 3</td>\n",
       "      <td> 2.667422e-10</td>\n",
       "      <td> 1.487251e-09</td>\n",
       "      <td> 3.535204e-10</td>\n",
       "      <td> 3.749474e-10</td>\n",
       "      <td> 3.447612e-10</td>\n",
       "      <td> 9.999863e-01</td>\n",
       "      <td> 1.197206e-09</td>\n",
       "      <td> 1.351929e-05</td>\n",
       "      <td> 0.000000</td>\n",
       "    </tr>\n",
       "    <tr>\n",
       "      <th>3</th>\n",
       "      <td> 4</td>\n",
       "      <td> 1.755881e-07</td>\n",
       "      <td> 8.070088e-01</td>\n",
       "      <td> 1.856771e-01</td>\n",
       "      <td> 7.307001e-03</td>\n",
       "      <td> 6.057481e-10</td>\n",
       "      <td> 4.090087e-09</td>\n",
       "      <td> 5.316110e-06</td>\n",
       "      <td> 1.042623e-07</td>\n",
       "      <td> 0.000001</td>\n",
       "    </tr>\n",
       "    <tr>\n",
       "      <th>4</th>\n",
       "      <td> 5</td>\n",
       "      <td> 1.151597e-01</td>\n",
       "      <td> 2.189253e-09</td>\n",
       "      <td> 2.426725e-11</td>\n",
       "      <td> 1.649303e-12</td>\n",
       "      <td> 2.046779e-12</td>\n",
       "      <td> 9.362987e-05</td>\n",
       "      <td> 4.240328e-05</td>\n",
       "      <td> 3.121469e-03</td>\n",
       "      <td> 0.881583</td>\n",
       "    </tr>\n",
       "  </tbody>\n",
       "</table>\n",
       "</div>"
      ],
      "text/plain": [
       "   id       Class_1       Class_2       Class_3       Class_4       Class_5  \\\n",
       "0   1  5.472575e-05  3.430429e-01  3.861805e-01  2.670003e-01  2.015497e-09   \n",
       "1   2  1.445872e-05  1.377777e-04  3.506232e-05  1.822014e-06  8.336285e-05   \n",
       "2   3  2.667422e-10  1.487251e-09  3.535204e-10  3.749474e-10  3.447612e-10   \n",
       "3   4  1.755881e-07  8.070088e-01  1.856771e-01  7.307001e-03  6.057481e-10   \n",
       "4   5  1.151597e-01  2.189253e-09  2.426725e-11  1.649303e-12  2.046779e-12   \n",
       "\n",
       "        Class_6       Class_7       Class_8   Class_9  \n",
       "0  1.572285e-07  3.721051e-03  9.668805e-08  0.000000  \n",
       "1  7.574223e-01  4.264549e-04  2.417141e-01  0.000165  \n",
       "2  9.999863e-01  1.197206e-09  1.351929e-05  0.000000  \n",
       "3  4.090087e-09  5.316110e-06  1.042623e-07  0.000001  \n",
       "4  9.362987e-05  4.240328e-05  3.121469e-03  0.881583  "
      ]
     },
     "execution_count": 5,
     "metadata": {},
     "output_type": "execute_result"
    }
   ],
   "source": [
    "lasagne_df = pd.read_csv(\"lasagne_drop_5-3-15_12pm_210-^^^-epochs.csv\")\n",
    "# lasagne_df = pd.read_csv(\"lasagne_drop_5-7-15_200-epochs_lookin-good.csv\")\n",
    "lasagne_df.head()"
   ]
  },
  {
   "cell_type": "code",
   "execution_count": 6,
   "metadata": {
    "collapsed": false
   },
   "outputs": [
    {
     "data": {
      "text/plain": [
       "0.99999999999999978"
      ]
     },
     "execution_count": 6,
     "metadata": {},
     "output_type": "execute_result"
    }
   ],
   "source": [
    "np.sum(lasagne_df.iloc[100, 1:])"
   ]
  },
  {
   "cell_type": "code",
   "execution_count": null,
   "metadata": {
    "collapsed": true
   },
   "outputs": [],
   "source": []
  },
  {
   "cell_type": "code",
   "execution_count": 8,
   "metadata": {
    "collapsed": false
   },
   "outputs": [],
   "source": [
    "gbc_vals = gbc_df.drop(\"id\", 1).values\n",
    "keras_vals = keras_df.drop(\"id\", 1).values\n",
    "lasagne_vals = lasagne_df.drop(\"id\", 1).values"
   ]
  },
  {
   "cell_type": "code",
   "execution_count": 9,
   "metadata": {
    "collapsed": false
   },
   "outputs": [
    {
     "data": {
      "text/plain": [
       "array([ 0.56721323,  0.91009388,  0.99955561, ...,  0.60026974,\n",
       "        0.48951264,  0.5448619 ])"
      ]
     },
     "execution_count": 9,
     "metadata": {},
     "output_type": "execute_result"
    }
   ],
   "source": [
    "gbc_maxes = np.max(gbc_vals, axis=1)\n",
    "lasagne_maxes = np.max(lasagne_vals, axis=1)\n",
    "keras_maxes = np.max(keras_vals, axis=1)\n",
    "\n",
    "gbc_maxes"
   ]
  },
  {
   "cell_type": "code",
   "execution_count": 27,
   "metadata": {
    "collapsed": false
   },
   "outputs": [
    {
     "data": {
      "text/plain": [
       "array([ 0.38618048,  0.75742233,  0.99998634, ...,  0.70039477,\n",
       "        0.61508388,  0.49847414])"
      ]
     },
     "execution_count": 27,
     "metadata": {},
     "output_type": "execute_result"
    }
   ],
   "source": [
    "lasagne_maxes"
   ]
  },
  {
   "cell_type": "code",
   "execution_count": 11,
   "metadata": {
    "collapsed": false
   },
   "outputs": [
    {
     "data": {
      "text/plain": [
       "array([  3.62379212e-03,   4.50066595e-01,   3.36668597e-01,\n",
       "         1.09240866e-01,   1.57678330e-04,   5.07941133e-03,\n",
       "         7.02851588e-02,   2.37538818e-03,   1.96340744e-03])"
      ]
     },
     "execution_count": 11,
     "metadata": {},
     "output_type": "execute_result"
    }
   ],
   "source": [
    "max_sums = gbc_vals[10,:]*gbc_maxes[10] + lasagne_vals[10,:]*lasagne_maxes[10]\n",
    "max_sums"
   ]
  },
  {
   "cell_type": "code",
   "execution_count": 14,
   "metadata": {
    "collapsed": false
   },
   "outputs": [],
   "source": [
    "max_sums = [ gbc_vals[i, :]*gbc_maxes[i] +  lasagne_vals[i,:]*lasagne_maxes[i] + \\\n",
    "            keras_vals[i, :] * keras_maxes[i] for i in range(len(gbc_vals))]"
   ]
  },
  {
   "cell_type": "code",
   "execution_count": 15,
   "metadata": {
    "collapsed": false
   },
   "outputs": [
    {
     "data": {
      "text/plain": [
       "(144368, 9)"
      ]
     },
     "execution_count": 15,
     "metadata": {},
     "output_type": "execute_result"
    }
   ],
   "source": [
    "max_sums = np.array(max_sums)\n",
    "max_sums.shape"
   ]
  },
  {
   "cell_type": "code",
   "execution_count": 14,
   "metadata": {
    "collapsed": false
   },
   "outputs": [
    {
     "data": {
      "text/plain": [
       "0.87978336658872081"
      ]
     },
     "execution_count": 14,
     "metadata": {},
     "output_type": "execute_result"
    }
   ],
   "source": [
    "np.sum(max_sums[0])"
   ]
  },
  {
   "cell_type": "code",
   "execution_count": 16,
   "metadata": {
    "collapsed": false
   },
   "outputs": [
    {
     "name": "stdout",
     "output_type": "stream",
     "text": [
      "done predicting!\n"
     ]
    }
   ],
   "source": [
    "sample = pd.read_csv('data/sampleSubmission.csv')\n",
    "\n",
    "preds = pd.DataFrame(max_sums, index=sample.id.values, columns=sample.columns[1:])\n",
    "preds.to_csv('combined-fed_gbc_lasagne_max_sums_5-13-15.csv', index_label='id')\n",
    "print(\"done predicting!\")"
   ]
  },
  {
   "cell_type": "code",
   "execution_count": 17,
   "metadata": {
    "collapsed": false
   },
   "outputs": [
    {
     "data": {
      "text/plain": [
       "(144368, 9)"
      ]
     },
     "execution_count": 17,
     "metadata": {},
     "output_type": "execute_result"
    }
   ],
   "source": [
    "mean_array = np.mean([gbc_vals, keras_vals, lasagne_vals], axis=0)\n",
    "mean_array.shape"
   ]
  },
  {
   "cell_type": "code",
   "execution_count": 6,
   "metadata": {
    "collapsed": false
   },
   "outputs": [],
   "source": [
    "mean_gbc_keras = np.mean([gbc_vals, keras_vals], axis=0)\n",
    "mean_gbc_lasagne = np.mean([gbc_vals, lasagne_vals], axis=0)"
   ]
  },
  {
   "cell_type": "code",
   "execution_count": 18,
   "metadata": {
    "collapsed": false
   },
   "outputs": [
    {
     "name": "stdout",
     "output_type": "stream",
     "text": [
      "done predicting!\n"
     ]
    }
   ],
   "source": [
    "sample = pd.read_csv('data/sampleSubmission.csv')\n",
    "\n",
    "preds = pd.DataFrame(mean_array, index=sample.id.values, columns=sample.columns[1:])\n",
    "preds.to_csv('mean_gbc_lasagne_5-13-15.csv', index_label='id')\n",
    "print(\"done predicting!\")"
   ]
  },
  {
   "cell_type": "code",
   "execution_count": 9,
   "metadata": {
    "collapsed": false,
    "scrolled": true
   },
   "outputs": [
    {
     "name": "stdout",
     "output_type": "stream",
     "text": [
      "done predicting!\n"
     ]
    }
   ],
   "source": [
    "sample = pd.read_csv('data/sampleSubmission.csv')\n",
    "\n",
    "preds = pd.DataFrame(mean_gbc_lasagne, index=sample.id.values, columns=sample.columns[1:])\n",
    "preds.to_csv('gbc_lasagne_5-3-15.csv', index_label='id')\n",
    "print(\"done predicting!\")"
   ]
  },
  {
   "cell_type": "code",
   "execution_count": 8,
   "metadata": {
    "collapsed": false
   },
   "outputs": [],
   "source": [
    "a = 0.44\n",
    "b = 0.42\n",
    "c = 0.51\n",
    "\n",
    "w_a = (1/a)/(1/a+1/b+1/c)\n",
    "w_b = (1/b)/(1/a+1/b+1/c)\n",
    "w_c = (1/c)/(1/a+1/b+1/c)"
   ]
  },
  {
   "cell_type": "code",
   "execution_count": 25,
   "metadata": {
    "collapsed": false
   },
   "outputs": [
    {
     "data": {
      "text/plain": [
       "0.7035611164581328"
      ]
     },
     "execution_count": 25,
     "metadata": {},
     "output_type": "execute_result"
    }
   ],
   "source": [
    "w_a+w_b"
   ]
  },
  {
   "cell_type": "code",
   "execution_count": 6,
   "metadata": {
    "collapsed": false
   },
   "outputs": [],
   "source": [
    "w_b = 0.1\n",
    "w_a = 0.9"
   ]
  },
  {
   "cell_type": "code",
   "execution_count": 9,
   "metadata": {
    "collapsed": true
   },
   "outputs": [],
   "source": [
    "# mean_weighted = gbc_vals*w_a + lasagne_vals*w_b + keras_vals*w_c\n",
    "\n",
    "# mean_weight"
   ]
  },
  {
   "cell_type": "code",
   "execution_count": 18,
   "metadata": {
    "collapsed": false
   },
   "outputs": [
    {
     "ename": "NameError",
     "evalue": "name 'mean_array' is not defined",
     "output_type": "error",
     "traceback": [
      "\u001b[1;31m---------------------------------------------------------------------------\u001b[0m",
      "\u001b[1;31mNameError\u001b[0m                                 Traceback (most recent call last)",
      "\u001b[1;32m<ipython-input-18-7a93015596d7>\u001b[0m in \u001b[0;36m<module>\u001b[1;34m()\u001b[0m\n\u001b[1;32m----> 1\u001b[1;33m \u001b[0mprint\u001b[0m\u001b[1;33m(\u001b[0m\u001b[0mmean_array\u001b[0m\u001b[1;33m)\u001b[0m\u001b[1;33m\u001b[0m\u001b[0m\n\u001b[0m",
      "\u001b[1;31mNameError\u001b[0m: name 'mean_array' is not defined"
     ]
    }
   ],
   "source": [
    "print(mean_array)"
   ]
  },
  {
   "cell_type": "code",
   "execution_count": 12,
   "metadata": {
    "collapsed": false
   },
   "outputs": [
    {
     "name": "stdout",
     "output_type": "stream",
     "text": [
      "[[  5.34834835e-04   3.32735383e-01   3.16994469e-01 ...,   7.69339420e-03\n",
      "    5.71986610e-04   3.11195516e-04]\n",
      " [  2.25432513e-03   3.72304073e-03   1.64313067e-03 ...,   3.18442670e-03\n",
      "    2.75981697e-01   1.79103584e-03]\n",
      " [  1.65201995e-05   4.43558573e-05   2.21057489e-05 ...,   1.94718799e-05\n",
      "    6.02223403e-05   1.68822104e-05]\n",
      " ..., \n",
      " [  2.68304898e-04   6.37763681e-01   3.24422356e-01 ...,   4.89044867e-03\n",
      "    6.76248645e-04   2.75968093e-04]\n",
      " [  2.52847437e-04   3.54699439e-01   4.83551460e-02 ...,   7.78154850e-04\n",
      "    2.27994986e-04   1.65175975e-04]\n",
      " [  1.55424061e-04   4.69862240e-01   4.84007964e-01 ...,   2.34921916e-02\n",
      "    2.43716943e-04   1.35136707e-04]]\n"
     ]
    }
   ],
   "source": [
    "print(mean_weighted)"
   ]
  },
  {
   "cell_type": "code",
   "execution_count": 14,
   "metadata": {
    "collapsed": false
   },
   "outputs": [
    {
     "name": "stdout",
     "output_type": "stream",
     "text": [
      "done predicting!\n"
     ]
    }
   ],
   "source": [
    "sample = pd.read_csv('data/sampleSubmission.csv')\n",
    "\n",
    "preds = pd.DataFrame(mean_weighted, index=sample.id.values, columns=sample.columns[1:])\n",
    "preds.to_csv('gbc_lasagne_keras_weighed_5-8-15b.csv', index_label='id')\n",
    "print(\"done predicting!\")"
   ]
  },
  {
   "cell_type": "code",
   "execution_count": 37,
   "metadata": {
    "collapsed": false
   },
   "outputs": [
    {
     "name": "stdout",
     "output_type": "stream",
     "text": [
      "(144368, 9)\n",
      "(144368,)\n"
     ]
    }
   ],
   "source": [
    "print(mean_weighted.shape)\n",
    "print(mean_weighted.max(axis=1).shape)"
   ]
  },
  {
   "cell_type": "code",
   "execution_count": 48,
   "metadata": {
    "collapsed": false
   },
   "outputs": [],
   "source": [
    "mean_max = [ i / np.max(i) for i in mean_weighted ]"
   ]
  },
  {
   "cell_type": "code",
   "execution_count": 54,
   "metadata": {
    "collapsed": false
   },
   "outputs": [],
   "source": [
    "mean_max_array = np.array(mean_max)"
   ]
  },
  {
   "cell_type": "code",
   "execution_count": 55,
   "metadata": {
    "collapsed": false
   },
   "outputs": [
    {
     "name": "stdout",
     "output_type": "stream",
     "text": [
      "done predicting!\n"
     ]
    }
   ],
   "source": [
    "sample = pd.read_csv('data/sampleSubmission.csv')\n",
    "\n",
    "preds = pd.DataFrame(mean_max_array, index=sample.id.values, columns=sample.columns[1:])\n",
    "preds.to_csv('gbc_lasagne_keras_weighed_MAX_5-6-15b.csv', index_label='id')\n",
    "print(\"done predicting!\")"
   ]
  },
  {
   "cell_type": "code",
   "execution_count": 15,
   "metadata": {
    "collapsed": false
   },
   "outputs": [],
   "source": [
    "gbc_confused_weights = [0.44444444444444442,\n",
    " 0.85875706214689262,\n",
    " 0.66216216216216217,\n",
    " 0.43478260869565216,\n",
    " 0.96153846153846156,\n",
    " 0.97122302158273377,\n",
    " 0.70967741935483875,\n",
    " 0.95454545454545459,\n",
    " 0.93023255813953487]"
   ]
  },
  {
   "cell_type": "code",
   "execution_count": 16,
   "metadata": {
    "collapsed": false
   },
   "outputs": [],
   "source": [
    "lasagne_confused_weights = [0.80508035251425614,\n",
    " 0.91787619402059295,\n",
    " 0.63218390804597702,\n",
    " 0.63545150501672243,\n",
    " 0.99196787148594379,\n",
    " 0.97573399363282631,\n",
    " 0.86192321239873193,\n",
    " 0.96951795841209831,\n",
    " 0.94651866801210893]"
   ]
  },
  {
   "cell_type": "code",
   "execution_count": 17,
   "metadata": {
    "collapsed": false
   },
   "outputs": [],
   "source": [
    "gbc_confused_weights = [0.44444444444444442,\n",
    " 0.85875706214689262,\n",
    " 0.66216216216216217,\n",
    " 0.43478260869565216,\n",
    " 0.96153846153846156,\n",
    " 0.97122302158273377,\n",
    " 0.70967741935483875,\n",
    " 0.95454545454545459,\n",
    " 0.93023255813953487]\n",
    "\n",
    "#  lasagne_confused_weights = [0.80508035251425614,\n",
    "#  0.91787619402059295,\n",
    "#  0.63218390804597702,\n",
    "#  0.63545150501672243,\n",
    "#  0.99196787148594379,\n",
    "#  0.97573399363282631,\n",
    "#  0.86192321239873193,\n",
    "#  0.96951795841209831,\n",
    "#  0.94651866801210893]\n",
    "\n",
    "lasagne_confused_weights = [0.33333333333333331,\n",
    " 0.81142857142857139,\n",
    " 0.52777777777777779,\n",
    " 0.5714285714285714,\n",
    " 0.96666666666666667,\n",
    " 0.92307692307692313,\n",
    " 0.53846153846153844,\n",
    " 0.93023255813953487,\n",
    " 0.86274509803921573]"
   ]
  },
  {
   "cell_type": "code",
   "execution_count": 18,
   "metadata": {
    "collapsed": false
   },
   "outputs": [
    {
     "data": {
      "text/plain": [
       "array([ 0.57142857,  0.51416863,  0.55646688,  0.43209877,  0.49867021,\n",
       "        0.51270815,  0.56858847,  0.5064498 ,  0.51881994])"
      ]
     },
     "execution_count": 18,
     "metadata": {},
     "output_type": "execute_result"
    }
   ],
   "source": [
    "gbc_contribute = gbc_confused_weights / np.sum([gbc_confused_weights, lasagne_confused_weights], axis=0)\n",
    "gbc_contribute"
   ]
  },
  {
   "cell_type": "code",
   "execution_count": 19,
   "metadata": {
    "collapsed": false
   },
   "outputs": [
    {
     "data": {
      "text/plain": [
       "array([ 0.42857143,  0.48583137,  0.44353312,  0.56790123,  0.50132979,\n",
       "        0.48729185,  0.43141153,  0.4935502 ,  0.48118006])"
      ]
     },
     "execution_count": 19,
     "metadata": {},
     "output_type": "execute_result"
    }
   ],
   "source": [
    "lasagne_contribute = lasagne_confused_weights / np.sum([gbc_confused_weights, lasagne_confused_weights], axis=0)\n",
    "lasagne_contribute"
   ]
  },
  {
   "cell_type": "code",
   "execution_count": 20,
   "metadata": {
    "collapsed": false
   },
   "outputs": [],
   "source": [
    "gbc_lasagne_conf_coop_vals = (gbc_vals * gbc_contribute) + (lasagne_vals * lasagne_contribute)"
   ]
  },
  {
   "cell_type": "code",
   "execution_count": 26,
   "metadata": {
    "collapsed": false
   },
   "outputs": [
    {
     "data": {
      "text/plain": [
       "0.97901464505051272"
      ]
     },
     "execution_count": 26,
     "metadata": {},
     "output_type": "execute_result"
    }
   ],
   "source": [
    "np.sum(gbc_lasagne_conf_coop_vals[0])"
   ]
  },
  {
   "cell_type": "code",
   "execution_count": 33,
   "metadata": {
    "collapsed": false
   },
   "outputs": [],
   "source": [
    "true_mean_array = np.mean([gbc_vals, lasagne_vals], axis=0)"
   ]
  },
  {
   "cell_type": "code",
   "execution_count": 34,
   "metadata": {
    "collapsed": false
   },
   "outputs": [
    {
     "name": "stdout",
     "output_type": "stream",
     "text": [
      "done predicting!\n"
     ]
    }
   ],
   "source": [
    "sample = pd.read_csv('data/sampleSubmission.csv')\n",
    "\n",
    "preds = pd.DataFrame(true_mean_array, index=sample.id.values, columns=sample.columns[1:])\n",
    "preds.to_csv('gbc_lasagne_coop_true_mean_5-12-15.csv', index_label='id')\n",
    "print(\"done predicting!\")"
   ]
  }
 ],
 "metadata": {
  "kernelspec": {
   "display_name": "Python 3",
   "language": "python",
   "name": "python3"
  },
  "language_info": {
   "codemirror_mode": {
    "name": "ipython",
    "version": 3
   },
   "file_extension": ".py",
   "mimetype": "text/x-python",
   "name": "python",
   "nbconvert_exporter": "python",
   "pygments_lexer": "ipython3",
   "version": "3.4.3"
  }
 },
 "nbformat": 4,
 "nbformat_minor": 0
}
